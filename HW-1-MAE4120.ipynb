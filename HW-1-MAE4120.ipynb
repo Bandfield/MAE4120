{
 "cells": [
  {
   "cell_type": "markdown",
   "metadata": {},
   "source": [
    "### 1. Using SolidWorks or other method, complete graphical analysis of the following:\n",
    "\n",
    "\\begin{align*}\n",
    "L1 & = XXXmm \\\\\n",
    "L2 & = XXXmm \\\\\n",
    "L3 & = XXXmm \\\\\n",
    "L4 & = XXXmm\n",
    "\\end{align*}"
   ]
  },
  {
   "cell_type": "markdown",
   "metadata": {},
   "source": [
    "### 2. Using SolidWorks or other method, complete graphical analysis of the following:\n",
    "\n",
    "\\begin{align*}\n",
    "L1 & = XXXmm \\\\\n",
    "L2 & = XXXmm \\\\\n",
    "L3 & = XXXmm \\\\\n",
    "L4 & = XXXmm\n",
    "\\end{align*}"
   ]
  },
  {
   "cell_type": "markdown",
   "metadata": {},
   "source": [
    "### 3. Write a Python function that accepts 4 variables (L1,L2,L3,L4) and determines of the fourbar can be assembled:"
   ]
  },
  {
   "cell_type": "code",
   "execution_count": 20,
   "metadata": {
    "collapsed": true
   },
   "outputs": [],
   "source": [
    "def fourbar_can_be_assembled(L1,L2,L3,L4):\n",
    "    '''\n",
    "    Function returns True if can be assembled.  Returns False if cannot be assembled\n",
    "    '''\n",
    "    #Insert your code below this line\n",
    "    \n",
    "    pass\n",
    "    \n",
    "    #Insert your code above this line    "
   ]
  },
  {
   "cell_type": "markdown",
   "metadata": {},
   "source": [
    "### 4. Write a Python function that accepts 4 variables (L1,L2,L3,L4) and determines of the fourbar is Grashof:"
   ]
  },
  {
   "cell_type": "code",
   "execution_count": 21,
   "metadata": {
    "collapsed": true
   },
   "outputs": [],
   "source": [
    "def fourbar_is_grashof(L1,L2,L3,L4):\n",
    "    '''\n",
    "    Function returns True if is Grashof.  Returns False if not Grashof\n",
    "    '''\n",
    "    #Insert your code below this line\n",
    "    \n",
    "    pass\n",
    "    \n",
    "    #Insert your code above this line   "
   ]
  },
  {
   "cell_type": "markdown",
   "metadata": {},
   "source": [
    "### TESTS ###"
   ]
  },
  {
   "cell_type": "code",
   "execution_count": 25,
   "metadata": {
    "collapsed": true
   },
   "outputs": [],
   "source": [
    "try:\n",
    "    assert(True==True)\n",
    "except:\n",
    "    print('----- Error!!! -----')"
   ]
  },
  {
   "cell_type": "code",
   "execution_count": 26,
   "metadata": {},
   "outputs": [
    {
     "name": "stdout",
     "output_type": "stream",
     "text": [
      "----- Error!!! -----\n"
     ]
    }
   ],
   "source": [
    "try:\n",
    "    assert(True==False)\n",
    "except:\n",
    "    print('----- Error!!! -----')"
   ]
  },
  {
   "cell_type": "code",
   "execution_count": null,
   "metadata": {},
   "outputs": [],
   "source": [
    "assert(fourbar_can_be_assembled(200,200,200,400) is True)\n",
    "assert(fourbar_can_be_assembled(200,200,200,1000) is False)"
   ]
  },
  {
   "cell_type": "code",
   "execution_count": null,
   "metadata": {},
   "outputs": [],
   "source": [
    "assert(fourbar_is_grashof(200,400,400,400) is True)\n",
    "assert(fourbar_is_grashof(200,400,400,800) is False)"
   ]
  },
  {
   "cell_type": "code",
   "execution_count": null,
   "metadata": {
    "collapsed": true
   },
   "outputs": [],
   "source": []
  }
 ],
 "metadata": {
  "kernelspec": {
   "display_name": "Python 3",
   "language": "python",
   "name": "python3"
  },
  "language_info": {
   "codemirror_mode": {
    "name": "ipython",
    "version": 3
   },
   "file_extension": ".py",
   "mimetype": "text/x-python",
   "name": "python",
   "nbconvert_exporter": "python",
   "pygments_lexer": "ipython3",
   "version": "3.5.1"
  }
 },
 "nbformat": 4,
 "nbformat_minor": 2
}
